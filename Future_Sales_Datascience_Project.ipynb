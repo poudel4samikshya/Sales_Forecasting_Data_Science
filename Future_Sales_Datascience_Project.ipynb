{
  "nbformat": 4,
  "nbformat_minor": 0,
  "metadata": {
    "colab": {
      "name": "Future_Sales_Datascience_Project.ipynb",
      "provenance": [],
      "collapsed_sections": [],
      "include_colab_link": true
    },
    "kernelspec": {
      "display_name": "Python 3",
      "name": "python3"
    },
    "language_info": {
      "name": "python"
    }
  },
  "cells": [
    {
      "cell_type": "markdown",
      "metadata": {
        "id": "view-in-github",
        "colab_type": "text"
      },
      "source": [
        "<a href=\"https://colab.research.google.com/github/poudel4samikshya/Sales_Forecasting_Data_Science/blob/main/Future_Sales_Datascience_Project.ipynb\" target=\"_parent\"><img src=\"https://colab.research.google.com/assets/colab-badge.svg\" alt=\"Open In Colab\"/></a>"
      ]
    },
    {
      "cell_type": "code",
      "metadata": {
        "id": "o0o2lZi12w4I"
      },
      "source": [
        "#  importing  packages\n",
        "\n",
        "import numpy as np                   # Multi-dimensional array object\n",
        "import pandas as pd                  # Data Manipulation\n",
        "import seaborn as sns                # Data Visualization\n",
        "import matplotlib.pyplot as plt      # Data Visualization\n",
        "import plotly.express as px          # Interactive Data Visualization\n",
        "import seaborn as sns\n",
        "from sklearn.ensemble import RandomForestRegressor # for modeling\n"
      ],
      "execution_count": null,
      "outputs": []
    },
    {
      "cell_type": "markdown",
      "metadata": {
        "id": "6Hvi1atchQLG"
      },
      "source": [
        "# Data Manipulation"
      ]
    },
    {
      "cell_type": "code",
      "metadata": {
        "colab": {
          "base_uri": "https://localhost:8080/"
        },
        "id": "2Ke_WRq8haNU",
        "outputId": "33ad8c8e-7c9d-469e-a157-58a45316bedb"
      },
      "source": [
        "from google.colab import drive\n",
        "drive.mount('/content/drive')"
      ],
      "execution_count": null,
      "outputs": [
        {
          "output_type": "stream",
          "name": "stdout",
          "text": [
            "Mounted at /content/drive\n"
          ]
        }
      ]
    },
    {
      "cell_type": "markdown",
      "metadata": {
        "id": "AoENdVAwzY9x"
      },
      "source": [
        "To Predict Total sales for every product and store in the next month We are provided with daily historical sales data.\n",
        "\n",
        "**The task is to forecast the total amount of products sold in every shop for the test set.** "
      ]
    },
    {
      "cell_type": "code",
      "metadata": {
        "id": "2Skxqa6h3yhS"
      },
      "source": [
        "# reading data from files\n",
        "train_ds = pd.read_csv(\"/content/drive/MyDrive/Future_sales_data/competitive-data-science-predict-future-sales/sales_train.csv\")\n",
        "test_ds = pd.read_csv(\"/content/drive/MyDrive/Future_sales_data/competitive-data-science-predict-future-sales/test.csv\")\n",
        "items_ds = pd.read_csv(\"/content/drive/MyDrive/Future_sales_data/competitive-data-science-predict-future-sales/items.csv\")\n",
        "item_categories_ds = pd.read_csv(\"/content/drive/MyDrive/Future_sales_data/competitive-data-science-predict-future-sales/item_categories.csv\")\n",
        "shops_ds = pd.read_csv(\"/content/drive/MyDrive/Future_sales_data/competitive-data-science-predict-future-sales/shops.csv\")\n",
        "submission = pd.read_csv(\"/content/drive/MyDrive/Future_sales_data/competitive-data-science-predict-future-sales/sample_submission.csv\")\n"
      ],
      "execution_count": null,
      "outputs": []
    },
    {
      "cell_type": "code",
      "metadata": {
        "colab": {
          "base_uri": "https://localhost:8080/",
          "height": 206
        },
        "id": "s9pWKQBI1xzr",
        "outputId": "0e56d634-2f48-4cf9-f22c-1dc499f4bd66"
      },
      "source": [
        "submission.tail()"
      ],
      "execution_count": null,
      "outputs": [
        {
          "output_type": "execute_result",
          "data": {
            "text/html": [
              "<div>\n",
              "<style scoped>\n",
              "    .dataframe tbody tr th:only-of-type {\n",
              "        vertical-align: middle;\n",
              "    }\n",
              "\n",
              "    .dataframe tbody tr th {\n",
              "        vertical-align: top;\n",
              "    }\n",
              "\n",
              "    .dataframe thead th {\n",
              "        text-align: right;\n",
              "    }\n",
              "</style>\n",
              "<table border=\"1\" class=\"dataframe\">\n",
              "  <thead>\n",
              "    <tr style=\"text-align: right;\">\n",
              "      <th></th>\n",
              "      <th>ID</th>\n",
              "      <th>item_cnt_month</th>\n",
              "    </tr>\n",
              "  </thead>\n",
              "  <tbody>\n",
              "    <tr>\n",
              "      <th>214195</th>\n",
              "      <td>214195</td>\n",
              "      <td>0.5</td>\n",
              "    </tr>\n",
              "    <tr>\n",
              "      <th>214196</th>\n",
              "      <td>214196</td>\n",
              "      <td>0.5</td>\n",
              "    </tr>\n",
              "    <tr>\n",
              "      <th>214197</th>\n",
              "      <td>214197</td>\n",
              "      <td>0.5</td>\n",
              "    </tr>\n",
              "    <tr>\n",
              "      <th>214198</th>\n",
              "      <td>214198</td>\n",
              "      <td>0.5</td>\n",
              "    </tr>\n",
              "    <tr>\n",
              "      <th>214199</th>\n",
              "      <td>214199</td>\n",
              "      <td>0.5</td>\n",
              "    </tr>\n",
              "  </tbody>\n",
              "</table>\n",
              "</div>"
            ],
            "text/plain": [
              "            ID  item_cnt_month\n",
              "214195  214195             0.5\n",
              "214196  214196             0.5\n",
              "214197  214197             0.5\n",
              "214198  214198             0.5\n",
              "214199  214199             0.5"
            ]
          },
          "metadata": {},
          "execution_count": 7
        }
      ]
    },
    {
      "cell_type": "markdown",
      "metadata": {
        "id": "N0amVGSbznfx"
      },
      "source": [
        "# Exploratory data Analysis"
      ]
    },
    {
      "cell_type": "markdown",
      "metadata": {
        "id": "Li6OMhpxznp5"
      },
      "source": [
        "**Data fields given in files (Discription)**\n",
        "\n",
        "1) ID - an Id that represents a (Shop, Item) tuple within the test set\n",
        "\n",
        "2) shop_id - unique identifier of a shop\n",
        "\n",
        "3) item_id - unique identifier of a product\n",
        "\n",
        "4) item_category_id - unique identifier of item category\n",
        "\n",
        "5) item_cnt_day - number of products sold. You are predicting a monthly amount of this measure\n",
        "\n",
        "6) item_price - current price of an item\n",
        "\n",
        "7) date - date in format dd/mm/yyyy\n",
        "\n",
        "6) date_block_num - a consecutive month number, used for convenience. January 2013 is 0, February 2013 is 1,..., October 2015 is 33\n",
        "\n",
        "7) item_name - name of item\n",
        "\n",
        "8) shop_name - name of shop\n",
        "\n",
        "9) item_category_name - name of item category"
      ]
    },
    {
      "cell_type": "code",
      "metadata": {
        "colab": {
          "base_uri": "https://localhost:8080/",
          "height": 206
        },
        "id": "DKgmoITZ3ywA",
        "outputId": "37e08688-0ce4-45b1-9893-c6d19d83c579"
      },
      "source": [
        "# checking the first 5 data to check it's attributes and lean about the data_fields\n",
        "train_ds.head()\n"
      ],
      "execution_count": null,
      "outputs": [
        {
          "output_type": "execute_result",
          "data": {
            "text/html": [
              "<div>\n",
              "<style scoped>\n",
              "    .dataframe tbody tr th:only-of-type {\n",
              "        vertical-align: middle;\n",
              "    }\n",
              "\n",
              "    .dataframe tbody tr th {\n",
              "        vertical-align: top;\n",
              "    }\n",
              "\n",
              "    .dataframe thead th {\n",
              "        text-align: right;\n",
              "    }\n",
              "</style>\n",
              "<table border=\"1\" class=\"dataframe\">\n",
              "  <thead>\n",
              "    <tr style=\"text-align: right;\">\n",
              "      <th></th>\n",
              "      <th>date</th>\n",
              "      <th>date_block_num</th>\n",
              "      <th>shop_id</th>\n",
              "      <th>item_id</th>\n",
              "      <th>item_price</th>\n",
              "      <th>item_cnt_day</th>\n",
              "    </tr>\n",
              "  </thead>\n",
              "  <tbody>\n",
              "    <tr>\n",
              "      <th>0</th>\n",
              "      <td>02.01.2013</td>\n",
              "      <td>0</td>\n",
              "      <td>59</td>\n",
              "      <td>22154</td>\n",
              "      <td>999.00</td>\n",
              "      <td>1.0</td>\n",
              "    </tr>\n",
              "    <tr>\n",
              "      <th>1</th>\n",
              "      <td>03.01.2013</td>\n",
              "      <td>0</td>\n",
              "      <td>25</td>\n",
              "      <td>2552</td>\n",
              "      <td>899.00</td>\n",
              "      <td>1.0</td>\n",
              "    </tr>\n",
              "    <tr>\n",
              "      <th>2</th>\n",
              "      <td>05.01.2013</td>\n",
              "      <td>0</td>\n",
              "      <td>25</td>\n",
              "      <td>2552</td>\n",
              "      <td>899.00</td>\n",
              "      <td>-1.0</td>\n",
              "    </tr>\n",
              "    <tr>\n",
              "      <th>3</th>\n",
              "      <td>06.01.2013</td>\n",
              "      <td>0</td>\n",
              "      <td>25</td>\n",
              "      <td>2554</td>\n",
              "      <td>1709.05</td>\n",
              "      <td>1.0</td>\n",
              "    </tr>\n",
              "    <tr>\n",
              "      <th>4</th>\n",
              "      <td>15.01.2013</td>\n",
              "      <td>0</td>\n",
              "      <td>25</td>\n",
              "      <td>2555</td>\n",
              "      <td>1099.00</td>\n",
              "      <td>1.0</td>\n",
              "    </tr>\n",
              "  </tbody>\n",
              "</table>\n",
              "</div>"
            ],
            "text/plain": [
              "         date  date_block_num  shop_id  item_id  item_price  item_cnt_day\n",
              "0  02.01.2013               0       59    22154      999.00           1.0\n",
              "1  03.01.2013               0       25     2552      899.00           1.0\n",
              "2  05.01.2013               0       25     2552      899.00          -1.0\n",
              "3  06.01.2013               0       25     2554     1709.05           1.0\n",
              "4  15.01.2013               0       25     2555     1099.00           1.0"
            ]
          },
          "metadata": {},
          "execution_count": 8
        }
      ]
    },
    {
      "cell_type": "code",
      "metadata": {
        "colab": {
          "base_uri": "https://localhost:8080/"
        },
        "id": "Ek512ulaz4Sw",
        "outputId": "aebf4cc1-228d-4388-916d-a56003d6377e"
      },
      "source": [
        "#checking if there is any null value\n",
        "train_ds.isna().sum()"
      ],
      "execution_count": null,
      "outputs": [
        {
          "output_type": "execute_result",
          "data": {
            "text/plain": [
              "date              0\n",
              "date_block_num    0\n",
              "shop_id           0\n",
              "item_id           0\n",
              "item_price        0\n",
              "item_cnt_day      0\n",
              "dtype: int64"
            ]
          },
          "metadata": {},
          "execution_count": 8
        }
      ]
    },
    {
      "cell_type": "code",
      "metadata": {
        "colab": {
          "base_uri": "https://localhost:8080/"
        },
        "id": "FOPDe1IIz4XN",
        "outputId": "8bb3677e-24bc-49a2-990b-b22145f511a9"
      },
      "source": [
        "#Displaying Metadata/Information about Training Data\n",
        "train_ds.info()"
      ],
      "execution_count": null,
      "outputs": [
        {
          "output_type": "stream",
          "name": "stdout",
          "text": [
            "<class 'pandas.core.frame.DataFrame'>\n",
            "RangeIndex: 2935849 entries, 0 to 2935848\n",
            "Data columns (total 6 columns):\n",
            " #   Column          Dtype  \n",
            "---  ------          -----  \n",
            " 0   date            object \n",
            " 1   date_block_num  int64  \n",
            " 2   shop_id         int64  \n",
            " 3   item_id         int64  \n",
            " 4   item_price      float64\n",
            " 5   item_cnt_day    float64\n",
            "dtypes: float64(2), int64(3), object(1)\n",
            "memory usage: 134.4+ MB\n"
          ]
        }
      ]
    },
    {
      "cell_type": "code",
      "metadata": {
        "colab": {
          "base_uri": "https://localhost:8080/",
          "height": 300
        },
        "id": "ol7lu2Xjz4ef",
        "outputId": "18b32609-f49a-4433-c19f-2590f232f7ab"
      },
      "source": [
        "#Displaying Stats on Training Data\n",
        "train_ds.describe()"
      ],
      "execution_count": null,
      "outputs": [
        {
          "output_type": "execute_result",
          "data": {
            "text/html": [
              "<div>\n",
              "<style scoped>\n",
              "    .dataframe tbody tr th:only-of-type {\n",
              "        vertical-align: middle;\n",
              "    }\n",
              "\n",
              "    .dataframe tbody tr th {\n",
              "        vertical-align: top;\n",
              "    }\n",
              "\n",
              "    .dataframe thead th {\n",
              "        text-align: right;\n",
              "    }\n",
              "</style>\n",
              "<table border=\"1\" class=\"dataframe\">\n",
              "  <thead>\n",
              "    <tr style=\"text-align: right;\">\n",
              "      <th></th>\n",
              "      <th>date_block_num</th>\n",
              "      <th>shop_id</th>\n",
              "      <th>item_id</th>\n",
              "      <th>item_price</th>\n",
              "      <th>item_cnt_day</th>\n",
              "    </tr>\n",
              "  </thead>\n",
              "  <tbody>\n",
              "    <tr>\n",
              "      <th>count</th>\n",
              "      <td>2.935849e+06</td>\n",
              "      <td>2.935849e+06</td>\n",
              "      <td>2.935849e+06</td>\n",
              "      <td>2.935849e+06</td>\n",
              "      <td>2.935849e+06</td>\n",
              "    </tr>\n",
              "    <tr>\n",
              "      <th>mean</th>\n",
              "      <td>1.456991e+01</td>\n",
              "      <td>3.300173e+01</td>\n",
              "      <td>1.019723e+04</td>\n",
              "      <td>8.908532e+02</td>\n",
              "      <td>1.242641e+00</td>\n",
              "    </tr>\n",
              "    <tr>\n",
              "      <th>std</th>\n",
              "      <td>9.422988e+00</td>\n",
              "      <td>1.622697e+01</td>\n",
              "      <td>6.324297e+03</td>\n",
              "      <td>1.729800e+03</td>\n",
              "      <td>2.618834e+00</td>\n",
              "    </tr>\n",
              "    <tr>\n",
              "      <th>min</th>\n",
              "      <td>0.000000e+00</td>\n",
              "      <td>0.000000e+00</td>\n",
              "      <td>0.000000e+00</td>\n",
              "      <td>-1.000000e+00</td>\n",
              "      <td>-2.200000e+01</td>\n",
              "    </tr>\n",
              "    <tr>\n",
              "      <th>25%</th>\n",
              "      <td>7.000000e+00</td>\n",
              "      <td>2.200000e+01</td>\n",
              "      <td>4.476000e+03</td>\n",
              "      <td>2.490000e+02</td>\n",
              "      <td>1.000000e+00</td>\n",
              "    </tr>\n",
              "    <tr>\n",
              "      <th>50%</th>\n",
              "      <td>1.400000e+01</td>\n",
              "      <td>3.100000e+01</td>\n",
              "      <td>9.343000e+03</td>\n",
              "      <td>3.990000e+02</td>\n",
              "      <td>1.000000e+00</td>\n",
              "    </tr>\n",
              "    <tr>\n",
              "      <th>75%</th>\n",
              "      <td>2.300000e+01</td>\n",
              "      <td>4.700000e+01</td>\n",
              "      <td>1.568400e+04</td>\n",
              "      <td>9.990000e+02</td>\n",
              "      <td>1.000000e+00</td>\n",
              "    </tr>\n",
              "    <tr>\n",
              "      <th>max</th>\n",
              "      <td>3.300000e+01</td>\n",
              "      <td>5.900000e+01</td>\n",
              "      <td>2.216900e+04</td>\n",
              "      <td>3.079800e+05</td>\n",
              "      <td>2.169000e+03</td>\n",
              "    </tr>\n",
              "  </tbody>\n",
              "</table>\n",
              "</div>"
            ],
            "text/plain": [
              "       date_block_num       shop_id       item_id    item_price  item_cnt_day\n",
              "count    2.935849e+06  2.935849e+06  2.935849e+06  2.935849e+06  2.935849e+06\n",
              "mean     1.456991e+01  3.300173e+01  1.019723e+04  8.908532e+02  1.242641e+00\n",
              "std      9.422988e+00  1.622697e+01  6.324297e+03  1.729800e+03  2.618834e+00\n",
              "min      0.000000e+00  0.000000e+00  0.000000e+00 -1.000000e+00 -2.200000e+01\n",
              "25%      7.000000e+00  2.200000e+01  4.476000e+03  2.490000e+02  1.000000e+00\n",
              "50%      1.400000e+01  3.100000e+01  9.343000e+03  3.990000e+02  1.000000e+00\n",
              "75%      2.300000e+01  4.700000e+01  1.568400e+04  9.990000e+02  1.000000e+00\n",
              "max      3.300000e+01  5.900000e+01  2.216900e+04  3.079800e+05  2.169000e+03"
            ]
          },
          "metadata": {},
          "execution_count": 10
        }
      ]
    },
    {
      "cell_type": "markdown",
      "metadata": {
        "id": "-n51c2u70BJa"
      },
      "source": [
        "Here, it could be noticed that item_price and item_cnt_day consist of Negative Numbers. These values should be changed into positive because as the value is in negative it does not make any sense, item price being in negative"
      ]
    },
    {
      "cell_type": "code",
      "metadata": {
        "id": "tL9W6IHigkec"
      },
      "source": [
        ""
      ],
      "execution_count": null,
      "outputs": []
    },
    {
      "cell_type": "markdown",
      "metadata": {
        "id": "f1d1IdAT0D7c"
      },
      "source": [
        "# Data Preparation for sales_train.csv\n",
        "\n",
        "\n"
      ]
    },
    {
      "cell_type": "code",
      "metadata": {
        "id": "8zGB-WL0z4h2"
      },
      "source": [
        "#Changing Negative numbers into Positive\n",
        "train_ds['item_price']=train_ds['item_price'].abs()\n",
        "train_ds['item_cnt_day']=train_ds['item_cnt_day'].abs()"
      ],
      "execution_count": null,
      "outputs": []
    },
    {
      "cell_type": "markdown",
      "metadata": {
        "id": "x84qNCUA0NNw"
      },
      "source": [
        "**As the item count per month is to be predicted, item_cnt_day will be converted to item_cnt_month**"
      ]
    },
    {
      "cell_type": "code",
      "metadata": {
        "colab": {
          "base_uri": "https://localhost:8080/"
        },
        "id": "xt7aaeaCz4kI",
        "outputId": "d98f7e78-0fed-48da-a06a-460b24478b68"
      },
      "source": [
        "#Grouping item price and item count per month\n",
        "train_ds = train_ds.groupby(['date_block_num','shop_id','item_id']).agg({'item_price':'last','item_cnt_day':'sum'}).reset_index()\n",
        "#Changing the name of the item_cnt_day to item_cnt_month\n",
        "train_ds = train_ds.rename(columns={'item_cnt_day':'item_cnt_month'})\n",
        "print(train_ds)"
      ],
      "execution_count": null,
      "outputs": [
        {
          "output_type": "stream",
          "name": "stdout",
          "text": [
            "         date_block_num  shop_id  item_id  item_price  item_cnt_month\n",
            "0                     0        0       32       221.0             6.0\n",
            "1                     0        0       33       347.0             3.0\n",
            "2                     0        0       35       247.0             1.0\n",
            "3                     0        0       43       221.0             1.0\n",
            "4                     0        0       51       127.0             2.0\n",
            "...                 ...      ...      ...         ...             ...\n",
            "1609119              33       59    22087       119.0             6.0\n",
            "1609120              33       59    22088       119.0             2.0\n",
            "1609121              33       59    22091       179.0             1.0\n",
            "1609122              33       59    22100       629.0             1.0\n",
            "1609123              33       59    22102      1250.0             1.0\n",
            "\n",
            "[1609124 rows x 5 columns]\n"
          ]
        }
      ]
    },
    {
      "cell_type": "markdown",
      "metadata": {
        "id": "MHf2gNJeXWhz"
      },
      "source": [
        "Since we are predicting the sales count of every shop, we want to visualize how shops are doing in **train data** set in terms of selling products\n",
        "\n",
        "---\n",
        "\n"
      ]
    },
    {
      "cell_type": "code",
      "metadata": {
        "colab": {
          "base_uri": "https://localhost:8080/",
          "height": 297
        },
        "id": "cNzFbwUMVoSJ",
        "outputId": "a393e96e-aa66-4827-a079-f0797ddb8880"
      },
      "source": [
        "#Grouping shop_id and item count per month\n",
        "train_ds_shop = train_ds.groupby(['shop_id']).agg({'item_cnt_month':'sum'}).round().reset_index()\n",
        "\n",
        "# vizualizing how the shops are doing in the market\n",
        "sns.barplot(x='shop_id',y= 'item_cnt_month', data = train_ds_shop)"
      ],
      "execution_count": null,
      "outputs": [
        {
          "output_type": "execute_result",
          "data": {
            "text/plain": [
              "<matplotlib.axes._subplots.AxesSubplot at 0x7f08d87aec50>"
            ]
          },
          "metadata": {},
          "execution_count": 11
        },
        {
          "output_type": "display_data",
          "data": {
            "image/png": "[encoded data removed]",
            "text/plain": [
              "<Figure size 432x288 with 1 Axes>"
            ]
          },
          "metadata": {
            "needs_background": "light"
          }
        }
      ]
    },
    {
      "cell_type": "markdown",
      "metadata": {
        "id": "QwRwcgcR0T5B"
      },
      "source": [
        "**Correlation** is a good way to find whether the data columns have linear relationship with item_cnt_day or not. If the correlation value is closer to one, then the data columns are positively related."
      ]
    },
    {
      "cell_type": "code",
      "metadata": {
        "colab": {
          "base_uri": "https://localhost:8080/",
          "height": 596
        },
        "id": "YLL0yJbbz4mp",
        "outputId": "91b37e1b-4563-4afe-bb9f-8ab289f5db4e"
      },
      "source": [
        "#Calculating Correlation\n",
        "correlation=train_ds.corr()\n",
        "\n",
        "#Plotting correlation using heat map\n",
        "plt.figure(figsize=(10,10))\n",
        "corr_heatmap=sns.heatmap(correlation,annot=True,cmap=\"GnBu\")"
      ],
      "execution_count": null,
      "outputs": [
        {
          "output_type": "display_data",
          "data": {
            "image/png": "[encoded data removed]",
            "text/plain": [
              "<Figure size 720x720 with 2 Axes>"
            ]
          },
          "metadata": {
            "needs_background": "light"
          }
        }
      ]
    },
    {
      "cell_type": "markdown",
      "metadata": {
        "id": "bSrjTLwIX2xX"
      },
      "source": [
        "Looking at the heatmap, we can say that item_price, shop_id and month number(date_block_num) are positivly co related whereas item_id has negative coreation\n"
      ]
    },
    {
      "cell_type": "code",
      "metadata": {
        "colab": {
          "base_uri": "https://localhost:8080/",
          "height": 206
        },
        "id": "ppL12Pyiz4pX",
        "outputId": "fb4e3ed4-7e44-4e0d-f2be-2f8f33a0cc5e"
      },
      "source": [
        "#checking item.csv to see how the file is\n",
        "items_ds.head()"
      ],
      "execution_count": null,
      "outputs": [
        {
          "output_type": "execute_result",
          "data": {
            "text/html": [
              "<div>\n",
              "<style scoped>\n",
              "    .dataframe tbody tr th:only-of-type {\n",
              "        vertical-align: middle;\n",
              "    }\n",
              "\n",
              "    .dataframe tbody tr th {\n",
              "        vertical-align: top;\n",
              "    }\n",
              "\n",
              "    .dataframe thead th {\n",
              "        text-align: right;\n",
              "    }\n",
              "</style>\n",
              "<table border=\"1\" class=\"dataframe\">\n",
              "  <thead>\n",
              "    <tr style=\"text-align: right;\">\n",
              "      <th></th>\n",
              "      <th>item_name</th>\n",
              "      <th>item_id</th>\n",
              "      <th>item_category_id</th>\n",
              "    </tr>\n",
              "  </thead>\n",
              "  <tbody>\n",
              "    <tr>\n",
              "      <th>0</th>\n",
              "      <td>! ВО ВЛАСТИ НАВАЖДЕНИЯ (ПЛАСТ.)         D</td>\n",
              "      <td>0</td>\n",
              "      <td>40</td>\n",
              "    </tr>\n",
              "    <tr>\n",
              "      <th>1</th>\n",
              "      <td>!ABBYY FineReader 12 Professional Edition Full...</td>\n",
              "      <td>1</td>\n",
              "      <td>76</td>\n",
              "    </tr>\n",
              "    <tr>\n",
              "      <th>2</th>\n",
              "      <td>***В ЛУЧАХ СЛАВЫ   (UNV)                    D</td>\n",
              "      <td>2</td>\n",
              "      <td>40</td>\n",
              "    </tr>\n",
              "    <tr>\n",
              "      <th>3</th>\n",
              "      <td>***ГОЛУБАЯ ВОЛНА  (Univ)                      D</td>\n",
              "      <td>3</td>\n",
              "      <td>40</td>\n",
              "    </tr>\n",
              "    <tr>\n",
              "      <th>4</th>\n",
              "      <td>***КОРОБКА (СТЕКЛО)                       D</td>\n",
              "      <td>4</td>\n",
              "      <td>40</td>\n",
              "    </tr>\n",
              "  </tbody>\n",
              "</table>\n",
              "</div>"
            ],
            "text/plain": [
              "                                           item_name  item_id  item_category_id\n",
              "0          ! ВО ВЛАСТИ НАВАЖДЕНИЯ (ПЛАСТ.)         D        0                40\n",
              "1  !ABBYY FineReader 12 Professional Edition Full...        1                76\n",
              "2      ***В ЛУЧАХ СЛАВЫ   (UNV)                    D        2                40\n",
              "3    ***ГОЛУБАЯ ВОЛНА  (Univ)                      D        3                40\n",
              "4        ***КОРОБКА (СТЕКЛО)                       D        4                40"
            ]
          },
          "metadata": {},
          "execution_count": 15
        }
      ]
    },
    {
      "cell_type": "code",
      "metadata": {
        "colab": {
          "base_uri": "https://localhost:8080/"
        },
        "id": "A7mJ5-bI0YWw",
        "outputId": "a74a910c-ffbf-41bf-fa00-d7f446a3bf88"
      },
      "source": [
        "print(items_ds.item_category_id.unique())\n",
        "print(\" \")\n",
        "print(\"Number of Unique ID : \", len(items_ds.item_category_id.unique()))"
      ],
      "execution_count": null,
      "outputs": [
        {
          "output_type": "stream",
          "name": "stdout",
          "text": [
            "[40 76 55 19 30 23 37 41 57 43 78 54 49 44 45 77 73 31 75 58 56 38 67 59\n",
            " 60 74 21 28 20 24 29 70 22 32 62 25 72  4 63 27 18 26 64 15 68  0  2  5\n",
            "  1  3  6 35 65 14 13 10 11 12 48 71 69  7 33 34 16 66 39 52 46 42 61  8\n",
            " 80  9 17 36 47 82 81 50 51 79 53 83]\n",
            " \n",
            "Number of Unique ID :  84\n"
          ]
        }
      ]
    },
    {
      "cell_type": "code",
      "metadata": {
        "colab": {
          "base_uri": "https://localhost:8080/",
          "height": 206
        },
        "id": "iCzdk3VZ0YZ_",
        "outputId": "1a6da32f-66ba-41d5-d434-0096f60c03e8"
      },
      "source": [
        "test_ds.head()"
      ],
      "execution_count": null,
      "outputs": [
        {
          "output_type": "execute_result",
          "data": {
            "text/html": [
              "<div>\n",
              "<style scoped>\n",
              "    .dataframe tbody tr th:only-of-type {\n",
              "        vertical-align: middle;\n",
              "    }\n",
              "\n",
              "    .dataframe tbody tr th {\n",
              "        vertical-align: top;\n",
              "    }\n",
              "\n",
              "    .dataframe thead th {\n",
              "        text-align: right;\n",
              "    }\n",
              "</style>\n",
              "<table border=\"1\" class=\"dataframe\">\n",
              "  <thead>\n",
              "    <tr style=\"text-align: right;\">\n",
              "      <th></th>\n",
              "      <th>ID</th>\n",
              "      <th>shop_id</th>\n",
              "      <th>item_id</th>\n",
              "    </tr>\n",
              "  </thead>\n",
              "  <tbody>\n",
              "    <tr>\n",
              "      <th>0</th>\n",
              "      <td>0</td>\n",
              "      <td>5</td>\n",
              "      <td>5037</td>\n",
              "    </tr>\n",
              "    <tr>\n",
              "      <th>1</th>\n",
              "      <td>1</td>\n",
              "      <td>5</td>\n",
              "      <td>5320</td>\n",
              "    </tr>\n",
              "    <tr>\n",
              "      <th>2</th>\n",
              "      <td>2</td>\n",
              "      <td>5</td>\n",
              "      <td>5233</td>\n",
              "    </tr>\n",
              "    <tr>\n",
              "      <th>3</th>\n",
              "      <td>3</td>\n",
              "      <td>5</td>\n",
              "      <td>5232</td>\n",
              "    </tr>\n",
              "    <tr>\n",
              "      <th>4</th>\n",
              "      <td>4</td>\n",
              "      <td>5</td>\n",
              "      <td>5268</td>\n",
              "    </tr>\n",
              "  </tbody>\n",
              "</table>\n",
              "</div>"
            ],
            "text/plain": [
              "   ID  shop_id  item_id\n",
              "0   0        5     5037\n",
              "1   1        5     5320\n",
              "2   2        5     5233\n",
              "3   3        5     5232\n",
              "4   4        5     5268"
            ]
          },
          "metadata": {},
          "execution_count": 17
        }
      ]
    },
    {
      "cell_type": "code",
      "metadata": {
        "colab": {
          "base_uri": "https://localhost:8080/"
        },
        "id": "VQpBoSmS0Yi3",
        "outputId": "861c5476-f76a-4a41-9cf1-697e1d4a4fc6"
      },
      "source": [
        "#checking if there is any null in test data\n",
        "test_ds.isna().sum()"
      ],
      "execution_count": null,
      "outputs": [
        {
          "output_type": "execute_result",
          "data": {
            "text/plain": [
              "ID         0\n",
              "shop_id    0\n",
              "item_id    0\n",
              "dtype: int64"
            ]
          },
          "metadata": {},
          "execution_count": 18
        }
      ]
    },
    {
      "cell_type": "code",
      "metadata": {
        "colab": {
          "base_uri": "https://localhost:8080/"
        },
        "id": "tJqoACVgz4sp",
        "outputId": "c4812f44-5b14-4168-a4dd-19c135045632"
      },
      "source": [
        "train_ds['item_price'].isnull().values.any()"
      ],
      "execution_count": null,
      "outputs": [
        {
          "output_type": "execute_result",
          "data": {
            "text/plain": [
              "False"
            ]
          },
          "metadata": {},
          "execution_count": 19
        }
      ]
    },
    {
      "cell_type": "markdown",
      "metadata": {
        "id": "l-VQIOQV0ueD"
      },
      "source": [
        "Looking at the test data, Test data only consists of two data columns shop_id and item_id,that means it has some column missing such as date_block_num, item_price, and item_cnt_month, we need to add other data columns like date_block_num and item priceto make test.csv same as sales_train.csv\n",
        "\n"
      ]
    },
    {
      "cell_type": "markdown",
      "metadata": {
        "id": "GAFH02H70w5Z"
      },
      "source": [
        "# Data Preperation for test.csv file"
      ]
    },
    {
      "cell_type": "markdown",
      "metadata": {
        "id": "MZGIXynybbqb"
      },
      "source": [
        "For date_block_num : we made date_block_num as 34 because: date_block_num reprsents the number of month so, october 2015 - is the 33rd month in dataset)\n",
        " if we are predicting for the november 2015, the date_block_number for that month would be 34\n",
        "\n",
        " "
      ]
    },
    {
      "cell_type": "code",
      "metadata": {
        "colab": {
          "base_uri": "https://localhost:8080/"
        },
        "id": "LI1bsjgb03uA",
        "outputId": "979beece-0707-4521-d655-0e8fb6769edd"
      },
      "source": [
        "#Adding date_block_num to the Test data\n",
        "test_ds['date_block_num']=34\n",
        "test_ds = test_ds[['date_block_num','shop_id','item_id']]\n",
        "print(test_ds)"
      ],
      "execution_count": null,
      "outputs": [
        {
          "output_type": "stream",
          "name": "stdout",
          "text": [
            "        date_block_num  shop_id  item_id\n",
            "0                   34        5     5037\n",
            "1                   34        5     5320\n",
            "2                   34        5     5233\n",
            "3                   34        5     5232\n",
            "4                   34        5     5268\n",
            "...                ...      ...      ...\n",
            "214195              34       45    18454\n",
            "214196              34       45    16188\n",
            "214197              34       45    15757\n",
            "214198              34       45    19648\n",
            "214199              34       45      969\n",
            "\n",
            "[214200 rows x 3 columns]\n"
          ]
        }
      ]
    },
    {
      "cell_type": "code",
      "metadata": {
        "colab": {
          "base_uri": "https://localhost:8080/"
        },
        "id": "NeWbKNBx03w2",
        "outputId": "4b5e4071-0fb6-40f3-8e4f-d7a494686141"
      },
      "source": [
        "# printing the unique shop_id that is in test_data \n",
        "print(test_ds['shop_id'].unique())"
      ],
      "execution_count": null,
      "outputs": [
        {
          "output_type": "stream",
          "name": "stdout",
          "text": [
            "[ 5  4  6  3  2  7 10 12 28 31 26 25 22 24 21 15 16 18 14 19 42 50 49 53\n",
            " 52 47 48 57 58 59 55 56 36 37 35 38 34 46 41 44 39 45]\n"
          ]
        }
      ]
    },
    {
      "cell_type": "markdown",
      "metadata": {
        "id": "igElXftybWBN"
      },
      "source": [
        "For the item_price: we use the .last() function to get the last item_price values of that particular item_id from the sales_train.csv add the item_price column on test.csv"
      ]
    },
    {
      "cell_type": "code",
      "metadata": {
        "colab": {
          "base_uri": "https://localhost:8080/"
        },
        "id": "10ItGByF032v",
        "outputId": "474c6d7c-6b99-47de-818f-0d8e38e3bbbd"
      },
      "source": [
        "#Adding the latest item price from the training data into test data into their respective item id\n",
        "item_price=dict(train_ds.groupby('item_id')['item_price'].last().reset_index().values)\n",
        "test_ds['item_price']=test_ds.item_id.map(item_price)\n",
        "print(test_ds)"
      ],
      "execution_count": null,
      "outputs": [
        {
          "output_type": "stream",
          "name": "stdout",
          "text": [
            "        date_block_num  shop_id  item_id  item_price\n",
            "0                   34        5     5037      1499.0\n",
            "1                   34        5     5320         NaN\n",
            "2                   34        5     5233      1199.0\n",
            "3                   34        5     5232      1199.0\n",
            "4                   34        5     5268         NaN\n",
            "...                ...      ...      ...         ...\n",
            "214195              34       45    18454        99.0\n",
            "214196              34       45    16188      1359.0\n",
            "214197              34       45    15757       229.0\n",
            "214198              34       45    19648        79.2\n",
            "214199              34       45      969       198.0\n",
            "\n",
            "[214200 rows x 4 columns]\n"
          ]
        }
      ]
    },
    {
      "cell_type": "markdown",
      "metadata": {
        "id": "PwTYIf4Idhtf"
      },
      "source": [
        "Note: we have some \"NAN\"item_price for item_id in test_ds, because those item_id werenot introduced in sales_train.csv\n",
        "\n",
        "So, In order to resolve that issue we will take the median of the item_price and replace NAN with that value. \n",
        "\n",
        "**why didnot we drop the NAN value?**\n",
        "-> for obvious reason, those are the new item_id that were introduced in test.csv and if we drop it, it might cause problem in prediction.\n"
      ]
    },
    {
      "cell_type": "code",
      "metadata": {
        "id": "5L4568TF0359",
        "colab": {
          "base_uri": "https://localhost:8080/"
        },
        "outputId": "85f895cf-bb74-4e1c-a7b4-7a5af7a390c0"
      },
      "source": [
        "#Replacing Missing Value with median price\n",
        "print(test_ds['item_price'].unique())\n",
        "test_ds['item_price']=test_ds['item_price'].fillna(test_ds['item_price'].median())\n",
        "test_ds['item_price']"
      ],
      "execution_count": null,
      "outputs": [
        {
          "output_type": "stream",
          "name": "stdout",
          "text": [
            "[1.49900000e+03            nan 1.19900000e+03 3.99900000e+03\n",
            " 3.49000000e+02 2.99000000e+02 9.90000000e+01 9.99900000e+03\n",
            " 1.29900000e+03 1.82900000e+03 9.99000000e+02 1.19800000e+03\n",
            " 2.99900000e+03 2.79900000e+03 3.98000000e+02 3.79900000e+03\n",
            " 3.19900000e+03 3.29000000e+03 5.69000000e+03 2.49000000e+02\n",
            " 3.41000000e+03 4.29000000e+03 3.49000000e+03 7.99000000e+02\n",
            " 4.99000000e+02 3.59000000e+03 1.39900000e+03 5.99000000e+02\n",
            " 1.09900000e+03 1.14900000e+03 3.99000000e+02 4.89000000e+02\n",
            " 5.49000000e+02 2.19900000e+03 7.99200000e+02 2.59900000e+03\n",
            " 6.99000000e+02 1.79900000e+03 1.69900000e+03 1.99900000e+03\n",
            " 1.59900000e+03 9.33000000e+02 9.80000000e+01 9.98000000e+02\n",
            " 8.99000000e+02 3.39900000e+03 4.49900000e+03 7.59900000e+03\n",
            " 3.59900000e+03 2.29900000e+03 2.39200000e+02 2.49900000e+03\n",
            " 1.99000000e+02 1.23400000e+03 1.69000000e+02 2.29000000e+02\n",
            " 4.49000000e+02 5.99900000e+03 4.84900000e+03 1.49000000e+02\n",
            " 4.89900000e+03 3.49900000e+03 1.48000000e+02 2.48000000e+02\n",
            " 1.59800000e+03 3.09900000e+04 2.98000000e+02 1.98000000e+02\n",
            " 1.19000000e+03 1.11980000e+04 6.98000000e+02 1.09000000e+03\n",
            " 2.99000000e+03 4.69000000e+03 7.49000000e+02 2.09900000e+03\n",
            " 4.19000000e+02 3.59000000e+02 8.49000000e+02 8.89000000e+02\n",
            " 9.49000000e+02 6.59000000e+02 2.80000000e+01 1.39800000e+03\n",
            " 1.04400000e+03 2.88150000e+02 2.88000000e+02 1.12900000e+03\n",
            " 1.24900000e+03 6.49000000e+02 1.99900000e+04 1.54900000e+03\n",
            " 6.09000000e+02 1.29885000e+03 1.79800000e+03 1.25870000e+03\n",
            " 6.99300000e+02 2.44870000e+03 2.44910000e+03 2.99800000e+03\n",
            " 5.00000000e+00 5.79000000e+02 2.24900000e+03 3.30000000e+03\n",
            " 5.99800000e+03 6.98700000e+02 9.32670000e+02 2.09000000e+03\n",
            " 1.18000000e+03 2.59000000e+03 2.89900000e+03 2.74900000e+03\n",
            " 2.44900000e+03 3.69900000e+03 1.85000000e+03 1.50000000e+03\n",
            " 4.20000000e+02 1.19000000e+02 1.79000000e+02 6.29000000e+02\n",
            " 1.35000000e+03 1.25000000e+03 9.79000000e+02 3.00000000e+02\n",
            " 3.80000000e+02 5.59900000e+03 8.99900000e+03 1.99800000e+03\n",
            " 1.64900000e+03 1.69840000e+03 1.59000000e+03 9.32000000e+02\n",
            " 1.29000000e+03 1.99000000e+03 1.49000000e+03 4.98000000e+02\n",
            " 2.79800000e+03 1.69000000e+03 3.29900000e+04 1.59000000e+02\n",
            " 3.29000000e+02 3.69000000e+02 4.29000000e+02 5.39000000e+02\n",
            " 5.59000000e+02 4.50000000e+02 2.14900000e+03 2.39900000e+03\n",
            " 5.09000000e+02 8.59000000e+02 1.59200000e+02 5.18000000e+02\n",
            " 1.66900000e+03 1.98900000e+03 5.80000000e+01 4.39000000e+03\n",
            " 4.69900000e+03 6.99900000e+03 1.09800000e+03 6.39800000e+03\n",
            " 1.29990000e+04 4.99800000e+03 6.79000000e+02 4.69000000e+02\n",
            " 2.79910000e+04 1.89900000e+03 2.41910000e+04 1.40000000e+03\n",
            " 9.90000000e+02 9.32660000e+02 2.29910000e+04 2.29000000e+03\n",
            " 6.39000000e+03 8.50000000e+02 1.51000000e+03 3.89000000e+02\n",
            " 2.09990000e+04 3.97850000e+02 2.29850000e+03 6.97850000e+02\n",
            " 3.19800000e+03 2.19000000e+02 4.90000000e+01 1.09801000e+03\n",
            " 9.99000000e+03 1.13000000e+03 1.49900000e+04 3.49900000e+04\n",
            " 3.19900000e+04 9.59000000e+02 1.03880000e+03 1.90000000e+02\n",
            " 7.90000000e+01 4.99000000e+03 8.71720000e+03 1.39990000e+04\n",
            " 1.39000000e+02 1.39000000e+03 3.61250000e+02 2.71000000e+02\n",
            " 1.44285714e+02 2.74400000e+02 3.19000000e+02 1.60000000e+03\n",
            " 3.50000000e+02 1.31900000e+03 9.32800000e+02 1.99330000e+02\n",
            " 4.54900000e+03 4.75000000e+02 2.40000000e+02 4.39000000e+02\n",
            " 3.33846154e+02 4.37833333e+02 1.13900000e+03 5.49900000e+03\n",
            " 2.72000000e+02 3.79000000e+02 4.80000000e+02 1.52000000e+04\n",
            " 4.60000000e+03 5.09900000e+03 1.22900000e+03 1.34900000e+03\n",
            " 8.90000000e+01 8.99100000e+02 1.44900000e+03 4.19900000e+03\n",
            " 1.84900000e+03 2.54900000e+03 2.63920000e+04 1.89000000e+03\n",
            " 2.34900000e+03 2.78600000e+02 2.50000000e+02 2.69900000e+03\n",
            " 1.10000000e+03 3.50000000e+03 6.00000000e+02 4.59900000e+03\n",
            " 1.94900000e+03 8.48000000e+02 4.74895000e+03 8.98850000e+02\n",
            " 2.38800000e+02 3.29900000e+03 7.79000000e+02 7.99000000e+03\n",
            " 7.79000000e+03 5.50000000e+02 1.29000000e+02 8.39900000e+03\n",
            " 2.25000000e+02 1.74900000e+03 2.04900000e+03 7.60000000e+01\n",
            " 3.89890000e+03 5.90000000e+01 2.59000000e+02 2.69000000e+02\n",
            " 7.49900000e+03 1.71900000e+03 2.37325000e+03 5.00000000e+02\n",
            " 3.51000000e+02 1.18990000e+04 1.35900000e+03 5.99500000e+02\n",
            " 2.69000000e+03 7.90000000e+02 1.62000000e+03 2.84900000e+03\n",
            " 2.94900000e+03 4.90000000e+02 9.46870000e+02 4.00000000e+02\n",
            " 7.20000000e+02 5.19200000e+02 6.12900000e+03 3.35900000e+03\n",
            " 5.98800000e+02 5.84000000e+02 8.58020000e+02 6.90000000e+01\n",
            " 1.15990000e+04 1.42385000e+03 6.59900000e+03 7.74900000e+03\n",
            " 7.29800000e+03 1.40000000e+02 3.24900000e+03 1.77900000e+03\n",
            " 1.56900000e+03 9.98500000e+02 1.04900000e+03 2.39000000e+02\n",
            " 2.79200000e+02 5.48901000e+03 2.15000000e+03 1.62500000e+03\n",
            " 5.99000000e+03 1.42500000e+03 1.04000000e+02 9.90000000e-01\n",
            " 1.69800000e+03 1.79000000e+03 7.84000000e+01 9.99500000e+02\n",
            " 7.02930000e+02 2.39800000e+03 3.30000000e+02 3.46000000e+02\n",
            " 8.33333333e+01 2.06000000e+02 2.24910000e+04 5.59800000e+03\n",
            " 3.83970000e+02 1.34910000e+03 3.40000000e+02 8.69000000e+02\n",
            " 1.48700000e+02 9.00000000e+02 1.83840000e+03 1.85000000e+04\n",
            " 1.37200000e+03 2.34910000e+04 4.44000000e+02 7.98000000e+02\n",
            " 1.49800000e+03 6.79900000e+03 2.98850000e+02 1.09840000e+03\n",
            " 3.82470000e+02 1.25900000e+03 1.89000000e+02 6.23500000e+02\n",
            " 2.33920000e+04 1.43900000e+03 1.99801000e+03 1.15900000e+03\n",
            " 7.69000000e+02 4.44900000e+03 1.03920000e+03 7.59000000e+02\n",
            " 1.33300000e+03 5.00000000e+01 1.72000000e+02 8.29000000e+02\n",
            " 2.00000000e+03 1.00000000e+03 1.50000000e+01 2.00000000e+02\n",
            " 1.50000000e+02 2.50000000e+03 1.88000000e+02 1.20000000e+03\n",
            " 2.20000000e+03 6.90000000e+02 5.90000000e+02 1.75000000e+03\n",
            " 3.99000000e+03 1.14900000e+04 2.05000000e+03 2.74000000e+03\n",
            " 1.19000000e+04 6.90000000e+03 5.15000000e+02 1.15000000e+02\n",
            " 2.10000000e+02 2.08000000e+02 1.36000000e+02 2.80000000e+02\n",
            " 1.81000000e+02 1.79100000e+03 1.95000000e+02 1.45000000e+02\n",
            " 2.90000000e+02 2.61000000e+02 1.27000000e+02 3.15000000e+02\n",
            " 6.50000000e+02 1.80000000e+03 1.00000000e+02 1.70000000e+03\n",
            " 9.80000000e+02 1.44000000e+02 8.00000000e+01 3.89000000e+03\n",
            " 9.54000000e+02 2.39000000e+03 7.50000000e+01 2.28000000e+02\n",
            " 2.50000000e+01 1.51000000e+02 2.16000000e+02 1.32000000e+02\n",
            " 5.00000000e+03 3.90000000e+01 9.50000000e+01 1.70000000e+02\n",
            " 2.90000000e+03 1.32000000e+03 3.91000000e+02 1.74000000e+02\n",
            " 7.50000000e+02 7.30000000e+02 1.85900000e+03 1.29800000e+03\n",
            " 3.54900000e+03 9.59800000e+03 2.79000000e+02 2.45000000e+02\n",
            " 1.18000000e+02 1.05900000e+03 5.89900000e+03 2.17500000e+02\n",
            " 2.33000000e+02 2.86330000e+03 3.88000000e+02 1.30046000e+03\n",
            " 1.37000000e+02 3.79910000e+04 5.88000000e+02 2.49800000e+03\n",
            " 7.92000000e+01]\n"
          ]
        },
        {
          "output_type": "execute_result",
          "data": {
            "text/plain": [
              "0         1499.0\n",
              "1          449.0\n",
              "2         1199.0\n",
              "3         1199.0\n",
              "4          449.0\n",
              "           ...  \n",
              "214195      99.0\n",
              "214196    1359.0\n",
              "214197     229.0\n",
              "214198      79.2\n",
              "214199     198.0\n",
              "Name: item_price, Length: 214200, dtype: float64"
            ]
          },
          "metadata": {},
          "execution_count": 23
        }
      ]
    },
    {
      "cell_type": "markdown",
      "metadata": {
        "id": "R4e9f-X6V_qd"
      },
      "source": [
        "# Modeling"
      ]
    },
    {
      "cell_type": "markdown",
      "metadata": {
        "id": "sgOTIylrfYAX"
      },
      "source": [
        "Before we feed our data in the model, we need to allocate our training data into X and y training sets where X represents the important features and Y represents the values that should be predicted."
      ]
    },
    {
      "cell_type": "code",
      "metadata": {
        "colab": {
          "base_uri": "https://localhost:8080/"
        },
        "id": "BoCMQURK039H",
        "outputId": "31ad5b12-d330-449c-8db8-ade1f515fd40"
      },
      "source": [
        "#allocating training data into X and y training sets\n",
        "x_train=train_ds.drop('item_cnt_month',axis=1)\n",
        "y_train=train_ds[\"item_cnt_month\"]\n",
        "# for test_ds \n",
        "x_test = test_ds\n",
        "\n",
        "x_train.shape,y_train.shape"
      ],
      "execution_count": null,
      "outputs": [
        {
          "output_type": "execute_result",
          "data": {
            "text/plain": [
              "((1609124, 4), (1609124,))"
            ]
          },
          "metadata": {},
          "execution_count": 24
        }
      ]
    },
    {
      "cell_type": "markdown",
      "metadata": {
        "id": "sDcGX3_dWFfp"
      },
      "source": [
        "# Random Forest Regression"
      ]
    },
    {
      "cell_type": "markdown",
      "metadata": {
        "id": "C-ZhG7OKp0Gh"
      },
      "source": [
        "For the no.of estimaters, it is suggested to have more than 65. We chose 100 because we thought it would be good enough number for our dataset."
      ]
    },
    {
      "cell_type": "code",
      "metadata": {
        "colab": {
          "base_uri": "https://localhost:8080/"
        },
        "id": "-OMbz4q303_V",
        "outputId": "0d7a7410-72dd-4677-88ff-585d450233b6"
      },
      "source": [
        "#Buliding Model in Random Forest Regressor\n",
        "rr_model=RandomForestRegressor(n_estimators=100)\n",
        "rr_model.fit(x_train,y_train)"
      ],
      "execution_count": null,
      "outputs": [
        {
          "output_type": "execute_result",
          "data": {
            "text/plain": [
              "RandomForestRegressor()"
            ]
          },
          "metadata": {},
          "execution_count": 25
        }
      ]
    },
    {
      "cell_type": "code",
      "metadata": {
        "colab": {
          "base_uri": "https://localhost:8080/"
        },
        "id": "la3F61jzWLpr",
        "outputId": "1493069c-01a9-4b3a-a974-43ddce2a5c34"
      },
      "source": [
        "#Testing the model\n",
        "rr_predict = rr_model.predict(x_test)\n",
        "print(rr_predict)"
      ],
      "execution_count": null,
      "outputs": [
        {
          "output_type": "stream",
          "name": "stdout",
          "text": [
            "[1.35 1.04 1.34 ... 1.   1.23 1.  ]\n"
          ]
        }
      ]
    },
    {
      "cell_type": "code",
      "metadata": {
        "colab": {
          "base_uri": "https://localhost:8080/"
        },
        "id": "jPV9vTWwWLsg",
        "outputId": "1f14b5eb-5a20-46fb-a256-ea39cebde27c"
      },
      "source": [
        "# storing prediction in Dataframe \n",
        "prediction_ds = {\n",
        "         'predicted_item_count_month': rr_predict\n",
        "        }\n",
        "prediction_ds = pd.DataFrame(prediction_ds)\n",
        "print (prediction_ds)"
      ],
      "execution_count": null,
      "outputs": [
        {
          "output_type": "stream",
          "name": "stdout",
          "text": [
            "        predicted_item_count_month\n",
            "0                             1.35\n",
            "1                             1.04\n",
            "2                             1.34\n",
            "3                             1.32\n",
            "4                             1.04\n",
            "...                            ...\n",
            "214195                        1.00\n",
            "214196                        1.12\n",
            "214197                        1.00\n",
            "214198                        1.23\n",
            "214199                        1.00\n",
            "\n",
            "[214200 rows x 1 columns]\n"
          ]
        }
      ]
    },
    {
      "cell_type": "code",
      "metadata": {
        "colab": {
          "base_uri": "https://localhost:8080/"
        },
        "id": "WdobCptgm_Lr",
        "outputId": "215a80fa-dc07-451b-d5a7-285b45d9ff08"
      },
      "source": [
        "# storing only shop_id and prediction in Dataframe \n",
        "prediction_ds_shop = {'shop_id': test_ds['shop_id'],\n",
        "        'predicted_item_count': rr_predict\n",
        "        }\n",
        "\n",
        "prediction_ds_shop = pd.DataFrame(prediction_ds_shop)\n",
        "\n",
        "\n",
        "print (prediction_ds_shop)\n"
      ],
      "execution_count": null,
      "outputs": [
        {
          "output_type": "stream",
          "name": "stdout",
          "text": [
            "        shop_id  predicted_item_count\n",
            "0             5                  1.35\n",
            "1             5                  1.04\n",
            "2             5                  1.34\n",
            "3             5                  1.32\n",
            "4             5                  1.04\n",
            "...         ...                   ...\n",
            "214195       45                  1.00\n",
            "214196       45                  1.12\n",
            "214197       45                  1.00\n",
            "214198       45                  1.23\n",
            "214199       45                  1.00\n",
            "\n",
            "[214200 rows x 2 columns]\n"
          ]
        }
      ]
    },
    {
      "cell_type": "markdown",
      "metadata": {
        "id": "umawBCV-nTgl"
      },
      "source": [
        "Since we are trying to see how every shops are doing in the market for the November, we are adding predicted_item_count for each shops"
      ]
    },
    {
      "cell_type": "code",
      "metadata": {
        "colab": {
          "base_uri": "https://localhost:8080/",
          "height": 1000
        },
        "id": "00mu1g4sWLvQ",
        "outputId": "9f3f92be-2934-4357-d7a2-265ac4f089e2"
      },
      "source": [
        "#Grouping item price and item count per month\n",
        "prediction_ds_shop = prediction_ds_shop.groupby(['shop_id']).agg({'predicted_item_count':'sum'}).round().reset_index()\n",
        "print(prediction_ds_shop)\n",
        "print(prediction_ds_shop.shape)\n",
        "\n",
        "# visualization\n",
        "\n",
        "sns.barplot( x = 'shop_id',y = 'predicted_item_count',data = prediction_ds_shop);"
      ],
      "execution_count": null,
      "outputs": [
        {
          "output_type": "stream",
          "name": "stdout",
          "text": [
            "    shop_id  predicted_item_count\n",
            "0         2                9804.0\n",
            "1         3                9583.0\n",
            "2         4                9632.0\n",
            "3         5               10020.0\n",
            "4         6               10543.0\n",
            "5         7               10355.0\n",
            "6        10               11526.0\n",
            "7        12               10696.0\n",
            "8        14                9950.0\n",
            "9        15               10003.0\n",
            "10       16                9880.0\n",
            "11       18               10036.0\n",
            "12       19               10359.0\n",
            "13       21               10766.0\n",
            "14       22               10552.0\n",
            "15       24               10840.0\n",
            "16       25               13553.0\n",
            "17       26               10288.0\n",
            "18       28               11257.0\n",
            "19       31               14000.0\n",
            "20       34                8872.0\n",
            "21       35                9195.0\n",
            "22       36                8871.0\n",
            "23       37                8877.0\n",
            "24       38                9219.0\n",
            "25       39                9717.0\n",
            "26       41                9468.0\n",
            "27       42               12226.0\n",
            "28       44                8931.0\n",
            "29       45                8708.0\n",
            "30       46                9314.0\n",
            "31       47                9679.0\n",
            "32       48                8862.0\n",
            "33       49                8476.0\n",
            "34       50                8571.0\n",
            "35       52                8581.0\n",
            "36       53                8928.0\n",
            "37       55               34046.0\n",
            "38       56                9543.0\n",
            "39       57               10466.0\n",
            "40       58                9830.0\n",
            "41       59                9557.0\n",
            "(42, 2)\n"
          ]
        },
        {
          "output_type": "display_data",
          "data": {
            "image/png": "[encoded data removed]",
            "text/plain": [
              "<Figure size 432x288 with 1 Axes>"
            ]
          },
          "metadata": {
            "needs_background": "light"
          }
        }
      ]
    },
    {
      "cell_type": "code",
      "metadata": {
        "colab": {
          "base_uri": "https://localhost:8080/"
        },
        "id": "CN2ufF5fWLxr",
        "outputId": "f1e700fe-3e1b-4e2d-c202-180b8a28693a"
      },
      "source": [
        "# storing only item_id and prediction in Dataframe\n",
        "prediction_ds_item = {'item_id': test_ds['item_id'],\n",
        "        'predicted_item_count': rr_predict\n",
        "        }\n",
        "\n",
        "prediction_ds_item = pd.DataFrame(prediction_ds_item)\n",
        "\n",
        "\n",
        "print (prediction_ds_item)"
      ],
      "execution_count": null,
      "outputs": [
        {
          "output_type": "stream",
          "name": "stdout",
          "text": [
            "        item_id  predicted_item_count\n",
            "0          5037                  1.35\n",
            "1          5320                  1.04\n",
            "2          5233                  1.34\n",
            "3          5232                  1.32\n",
            "4          5268                  1.04\n",
            "...         ...                   ...\n",
            "214195    18454                  1.00\n",
            "214196    16188                  1.12\n",
            "214197    15757                  1.00\n",
            "214198    19648                  1.23\n",
            "214199      969                  1.00\n",
            "\n",
            "[214200 rows x 2 columns]\n"
          ]
        }
      ]
    },
    {
      "cell_type": "markdown",
      "metadata": {
        "id": "G_vELF4Cnw9a"
      },
      "source": [
        "Since we are trying to see how every products are doing in the market for the November, we are adding predicted_item_count for each products"
      ]
    },
    {
      "cell_type": "code",
      "metadata": {
        "colab": {
          "base_uri": "https://localhost:8080/",
          "height": 542
        },
        "id": "aMsGfgCsWL07",
        "outputId": "d7ba6880-7216-4dd4-d7a9-4e6de7a71497"
      },
      "source": [
        "#Grouping item price and item count per month\n",
        "prediction_ds_item = prediction_ds_item.groupby(['item_id']).agg({'predicted_item_count':'sum'}).round().reset_index()\n",
        "print(prediction_ds_item)\n",
        "sns.scatterplot(x = 'item_id', y = 'predicted_item_count',data = prediction_ds_item )"
      ],
      "execution_count": null,
      "outputs": [
        {
          "output_type": "stream",
          "name": "stdout",
          "text": [
            "      item_id  predicted_item_count\n",
            "0          30                  49.0\n",
            "1          31                  96.0\n",
            "2          32                  59.0\n",
            "3          33                  52.0\n",
            "4          38                  75.0\n",
            "...       ...                   ...\n",
            "5095    22162                  69.0\n",
            "5096    22163                  59.0\n",
            "5097    22164                  69.0\n",
            "5098    22166                 394.0\n",
            "5099    22167                  74.0\n",
            "\n",
            "[5100 rows x 2 columns]\n"
          ]
        },
        {
          "output_type": "execute_result",
          "data": {
            "text/plain": [
              "<matplotlib.axes._subplots.AxesSubplot at 0x7ff5662aa610>"
            ]
          },
          "metadata": {},
          "execution_count": 32
        },
        {
          "output_type": "display_data",
          "data": {
            "image/png": "[encoded data removed]",
            "text/plain": [
              "<Figure size 432x288 with 1 Axes>"
            ]
          },
          "metadata": {
            "needs_background": "light"
          }
        }
      ]
    },
    {
      "cell_type": "markdown",
      "metadata": {
        "id": "lM8H3TJZu-J-"
      },
      "source": [
        "# **# Professer's suggestion**\n"
      ]
    },
    {
      "cell_type": "markdown",
      "metadata": {
        "id": "sB5Apxc-tvcj"
      },
      "source": [
        "# **Since the test dataset given in kaggle doesnot have y value to compare with the predicted value (yhat) and check how good our model is so, we talked to professer about it and professer gave us a permission to use sales_train data to split  into our own train and test data.(80% and 20%) so that we can evaluate the performance of our model.**"
      ]
    },
    {
      "cell_type": "code",
      "metadata": {
        "colab": {
          "base_uri": "https://localhost:8080/"
        },
        "id": "NCXNXCKNvAVq",
        "outputId": "c3f24b67-dddb-486d-e88a-42c66b2fe272"
      },
      "source": [
        "#spliting sales_train.csv file (80% train  and 20% test)\n",
        "from sklearn.model_selection import train_test_split\n",
        "\n",
        "training_data, testing_data = train_test_split(train_ds, test_size=0.2,random_state=25)\n",
        "\n",
        "print(f\"No. of training examples: {training_data.shape[0]}\")\n",
        "print(f\"No. of testing examples: {testing_data.shape[0]}\")"
      ],
      "execution_count": null,
      "outputs": [
        {
          "output_type": "stream",
          "name": "stdout",
          "text": [
            "No. of training examples: 1287299\n",
            "No. of testing examples: 321825\n"
          ]
        }
      ]
    },
    {
      "cell_type": "code",
      "metadata": {
        "colab": {
          "base_uri": "https://localhost:8080/"
        },
        "id": "G5C2ey9YvkWd",
        "outputId": "a6f0bd33-d06d-4d46-e5ee-662ed6a57a25"
      },
      "source": [
        "#allocating training data into X and y training sets\n",
        "\n",
        "#training\n",
        "x_train=training_data.drop('item_cnt_month',axis=1)\n",
        "y_train = training_data[\"item_cnt_month\"]\n",
        "\n",
        "#testing\n",
        "x_test = testing_data.drop('item_cnt_month',axis=1)\n",
        "y_test = testing_data[\"item_cnt_month\"]\n",
        "x_train.shape,y_train.shape"
      ],
      "execution_count": null,
      "outputs": [
        {
          "output_type": "execute_result",
          "data": {
            "text/plain": [
              "((1287299, 4), (1287299,))"
            ]
          },
          "metadata": {},
          "execution_count": 13
        }
      ]
    },
    {
      "cell_type": "code",
      "metadata": {
        "id": "7bpi_34Ote8f"
      },
      "source": [
        "from sklearn.metrics import mean_squared_error,mean_absolute_error\n",
        "\n"
      ],
      "execution_count": null,
      "outputs": []
    },
    {
      "cell_type": "markdown",
      "metadata": {
        "id": "PWVf4U1YzhWQ"
      },
      "source": [
        "#Random Forest Algorithim"
      ]
    },
    {
      "cell_type": "markdown",
      "metadata": {
        "id": "CWtjo16Mc6UE"
      },
      "source": [
        "# Training the model"
      ]
    },
    {
      "cell_type": "code",
      "metadata": {
        "colab": {
          "base_uri": "https://localhost:8080/"
        },
        "id": "LLrqD6JLtfC0",
        "outputId": "e706d9d1-ed9e-4c01-ca26-f0112dbe292d"
      },
      "source": [
        "\n",
        "\n",
        "#Buliding Model in Random Forest Regressor\n",
        "rr_model=RandomForestRegressor(n_estimators=65)\n",
        "rr_model.fit(x_train,y_train)\n"
      ],
      "execution_count": null,
      "outputs": [
        {
          "output_type": "execute_result",
          "data": {
            "text/plain": [
              "RandomForestRegressor(n_estimators=65)"
            ]
          },
          "metadata": {},
          "execution_count": 16
        }
      ]
    },
    {
      "cell_type": "markdown",
      "metadata": {
        "id": "9PqOn8APdAO_"
      },
      "source": [
        "# Testing in test data"
      ]
    },
    {
      "cell_type": "code",
      "metadata": {
        "id": "aZ_ViZiy3QmA",
        "colab": {
          "base_uri": "https://localhost:8080/"
        },
        "outputId": "e048014f-60e5-4b1c-c5ec-29d39a5c63b2"
      },
      "source": [
        "#Testing the model\n",
        "rr_predict=rr_model.predict(x_test)\n",
        "print(rr_predict)"
      ],
      "execution_count": null,
      "outputs": [
        {
          "output_type": "stream",
          "name": "stdout",
          "text": [
            "[1.95384615 1.15384615 1.13846154 ... 5.63076923 8.4        1.06153846]\n"
          ]
        }
      ]
    },
    {
      "cell_type": "markdown",
      "metadata": {
        "id": "GuNiRXJvdOhP"
      },
      "source": [
        "# Looking at the prediction we find out some prediction are only some decimal away from the actul value so, inorder to increase accuracy we truncate the decimal."
      ]
    },
    {
      "cell_type": "code",
      "metadata": {
        "id": "HI5eKoel1LSc",
        "colab": {
          "base_uri": "https://localhost:8080/"
        },
        "outputId": "7868063e-46a5-4c9b-edf4-651de0c69fb6"
      },
      "source": [
        "#Testing the model\n",
        "rr_predict=rr_model.predict(x_test)\n",
        "rr_predict = np.trunc(rr_predict)\n",
        "print(rr_predict)"
      ],
      "execution_count": null,
      "outputs": [
        {
          "output_type": "stream",
          "name": "stdout",
          "text": [
            "[1. 1. 1. ... 5. 8. 1.]\n"
          ]
        }
      ]
    },
    {
      "cell_type": "code",
      "metadata": {
        "id": "uVN22LMRngIU",
        "colab": {
          "base_uri": "https://localhost:8080/"
        },
        "outputId": "9c4c8ef5-977f-4d9c-e022-03759fdb99b3"
      },
      "source": [
        "# storing only item_id and prediction in Dataframe\n",
        "prediction = {'Actual_Y_value': y_test,\n",
        "        'Predicted_Y_hat': rr_predict\n",
        "        }\n",
        "prediction = pd.DataFrame(prediction)\n",
        "\n",
        "\n",
        "print(prediction)"
      ],
      "execution_count": null,
      "outputs": [
        {
          "output_type": "stream",
          "name": "stdout",
          "text": [
            "         Actual_Y_value  Predicted_Y_hat\n",
            "518371              1.0              1.0\n",
            "83779               2.0              1.0\n",
            "135246              1.0              1.0\n",
            "547942              1.0              1.0\n",
            "1406119             3.0              2.0\n",
            "...                 ...              ...\n",
            "1418571             2.0              1.0\n",
            "372666              2.0              1.0\n",
            "1169860             3.0              5.0\n",
            "169400              2.0              8.0\n",
            "612335              1.0              1.0\n",
            "\n",
            "[321825 rows x 2 columns]\n"
          ]
        }
      ]
    },
    {
      "cell_type": "markdown",
      "metadata": {
        "id": "Hu7FklRRjrT4"
      },
      "source": [
        "# ACCURACY CHECKING"
      ]
    },
    {
      "cell_type": "code",
      "metadata": {
        "id": "catOZNr0tfM4",
        "colab": {
          "base_uri": "https://localhost:8080/"
        },
        "outputId": "f300efa8-aa55-49be-88c0-b91916ffdb73"
      },
      "source": [
        "\n",
        "import math\n",
        "# checking performance of the matrix\n",
        "rmse = math.sqrt(mean_squared_error(y_test,rr_predict))\n",
        "mae = mean_absolute_error(y_test,rr_predict)\n",
        "\n",
        "  #printing\n",
        "print(f'RMSE: {rmse}')\n",
        "print(f'MAE: {mae}')"
      ],
      "execution_count": null,
      "outputs": [
        {
          "output_type": "stream",
          "name": "stdout",
          "text": [
            "RMSE: 5.719467315903618\n",
            "MAE: 0.9576322535539501\n"
          ]
        }
      ]
    },
    {
      "cell_type": "code",
      "metadata": {
        "id": "QS7Q6sJXzo1K",
        "colab": {
          "base_uri": "https://localhost:8080/"
        },
        "outputId": "da7012a4-dcb8-435b-f84f-761dff9b1fc0"
      },
      "source": [
        "\n",
        "y_test = y_test.to_numpy()\n",
        "count = 0\n",
        "a = len(y_test)\n",
        "for i in range(a):\n",
        "  if y_test[i] == rr_predict[i]:\n",
        "    count+= 1\n",
        "print(count)\n",
        "print(a)\n",
        "accuracy = count/a * 100\n",
        "print(accuracy) \n",
        "# The accuracy is very low that means it is underfitting"
      ],
      "execution_count": null,
      "outputs": [
        {
          "output_type": "stream",
          "name": "stdout",
          "text": [
            "197679\n",
            "321825\n",
            "61.424376602190634\n"
          ]
        }
      ]
    },
    {
      "cell_type": "markdown",
      "metadata": {
        "id": "h8uY0iR1DUYY"
      },
      "source": [
        "# Graphing Actual value of Y against Predicted Y value"
      ]
    },
    {
      "cell_type": "code",
      "metadata": {
        "id": "-64IlrnyKTJk",
        "colab": {
          "base_uri": "https://localhost:8080/",
          "height": 730
        },
        "outputId": "dc466a93-8500-449b-a4aa-1750fc74700c"
      },
      "source": [
        "sns.set(style=\"darkgrid\")\n",
        "sns.relplot(x=\"Actual_Y_value\", y=\"Predicted_Y_hat\", data=prediction);\n",
        "sns.relplot(x=\"Actual_Y_value\", y=\"Predicted_Y_hat\", kind=\"line\", data=prediction,color = \"red\")"
      ],
      "execution_count": null,
      "outputs": [
        {
          "output_type": "execute_result",
          "data": {
            "text/plain": [
              "<seaborn.axisgrid.FacetGrid at 0x7ff55de62850>"
            ]
          },
          "metadata": {},
          "execution_count": 45
        },
        {
          "output_type": "display_data",
          "data": {
            "image/png": "[encoded data removed]",
            "text/plain": [
              "<Figure size 360x360 with 1 Axes>"
            ]
          },
          "metadata": {}
        },
        {
          "output_type": "display_data",
          "data": {
            "image/png": "[encoded data removed]",
            "text/plain": [
              "<Figure size 360x360 with 1 Axes>"
            ]
          },
          "metadata": {}
        }
      ]
    },
    {
      "cell_type": "markdown",
      "metadata": {
        "id": "JrkDGBUv1mr1"
      },
      "source": [
        "# Ploting graph to see prdiction on x_test data"
      ]
    },
    {
      "cell_type": "code",
      "metadata": {
        "id": "4CKv2zTb1sGD",
        "colab": {
          "base_uri": "https://localhost:8080/",
          "height": 558
        },
        "outputId": "acca69f8-b5d3-4979-f0dd-b33545ac378b"
      },
      "source": [
        "fig,ax = plt.subplots(figsize=(15,6))\n",
        "ax.plot(x_test,y_test,'ro')\n",
        "ax.plot(x_test,rr_predict, 'b--')"
      ],
      "execution_count": null,
      "outputs": [
        {
          "output_type": "error",
          "ename": "NameError",
          "evalue": "ignored",
          "traceback": [
            "\u001b[0;31m---------------------------------------------------------------------------\u001b[0m",
            "\u001b[0;31mNameError\u001b[0m                                 Traceback (most recent call last)",
            "\u001b[0;32m<ipython-input-15-83737aca1d75>\u001b[0m in \u001b[0;36m<module>\u001b[0;34m()\u001b[0m\n\u001b[1;32m      1\u001b[0m \u001b[0mfig\u001b[0m\u001b[0;34m,\u001b[0m\u001b[0max\u001b[0m \u001b[0;34m=\u001b[0m \u001b[0mplt\u001b[0m\u001b[0;34m.\u001b[0m\u001b[0msubplots\u001b[0m\u001b[0;34m(\u001b[0m\u001b[0mfigsize\u001b[0m\u001b[0;34m=\u001b[0m\u001b[0;34m(\u001b[0m\u001b[0;36m15\u001b[0m\u001b[0;34m,\u001b[0m\u001b[0;36m6\u001b[0m\u001b[0;34m)\u001b[0m\u001b[0;34m)\u001b[0m\u001b[0;34m\u001b[0m\u001b[0;34m\u001b[0m\u001b[0m\n\u001b[1;32m      2\u001b[0m \u001b[0max\u001b[0m\u001b[0;34m.\u001b[0m\u001b[0mplot\u001b[0m\u001b[0;34m(\u001b[0m\u001b[0mx_test\u001b[0m\u001b[0;34m,\u001b[0m\u001b[0my_test\u001b[0m\u001b[0;34m,\u001b[0m\u001b[0;34m'ro'\u001b[0m\u001b[0;34m)\u001b[0m\u001b[0;34m\u001b[0m\u001b[0;34m\u001b[0m\u001b[0m\n\u001b[0;32m----> 3\u001b[0;31m \u001b[0max\u001b[0m\u001b[0;34m.\u001b[0m\u001b[0mplot\u001b[0m\u001b[0;34m(\u001b[0m\u001b[0mx_test\u001b[0m\u001b[0;34m,\u001b[0m\u001b[0mrr_predict\u001b[0m\u001b[0;34m,\u001b[0m \u001b[0;34m'b--'\u001b[0m\u001b[0;34m)\u001b[0m\u001b[0;34m\u001b[0m\u001b[0;34m\u001b[0m\u001b[0m\n\u001b[0m",
            "\u001b[0;31mNameError\u001b[0m: name 'rr_predict' is not defined"
          ]
        },
        {
          "output_type": "display_data",
          "data": {
            "image/png": "[encoded data removed]",
            "text/plain": [
              "<Figure size 1080x432 with 1 Axes>"
            ]
          },
          "metadata": {
            "needs_background": "light"
          }
        }
      ]
    },
    {
      "cell_type": "code",
      "metadata": {
        "id": "36fFQimJtfis"
      },
      "source": [
        ""
      ],
      "execution_count": null,
      "outputs": []
    },
    {
      "cell_type": "code",
      "metadata": {
        "id": "3MmAEmD8tflM"
      },
      "source": [
        ""
      ],
      "execution_count": null,
      "outputs": []
    },
    {
      "cell_type": "markdown",
      "metadata": {
        "id": "Yh8uRZRCtgW3"
      },
      "source": [
        "Topics to search\n",
        "1) Imputations 2) https://www.kaggle.com/pralabhpoudel/sale-prediction-regressions-and-deep-learning 3) Evaluation metrics: Accuracy score, confusion matrix, classificationn report, roc, auc and their curves 4) https://julsimon.medium.com/predicting-world-temperature-with-time-series-and-deepar-on-amazon-sagemaker-e371cf94ddb5"
      ]
    }
  ]
}